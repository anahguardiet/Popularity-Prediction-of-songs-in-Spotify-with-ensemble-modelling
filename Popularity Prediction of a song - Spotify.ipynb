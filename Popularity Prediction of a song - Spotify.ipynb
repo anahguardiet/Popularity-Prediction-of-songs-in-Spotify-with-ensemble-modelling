{
 "cells": [
  {
   "cell_type": "markdown",
   "metadata": {
    "id": "Kv6G1SeI6wEx"
   },
   "source": [
    "# Spotify Popularity Prediction"
   ]
  },
  {
   "cell_type": "markdown",
   "metadata": {
    "id": "Ll-3_OEo6wE8"
   },
   "source": [
    "# Required libraries \n",
    "\n",
    "\n",
    "**numpy**: Provides n dimensional arrays to store information\n",
    "\n",
    "**pandas**: Used to create DataFrames to clearly hold data \n",
    "allowing for easy manipulation\n",
    "\n",
    "**seaborn**: Excellent for quick and easy EDA\n",
    "\n",
    "**matplotlib**: Basic plotting for EDA \n",
    "\n",
    "**sklearn**: Imports necessary machine learning packages for preprocessing, train,test,split as well as model selection and metrics "
   ]
  },
  {
   "cell_type": "code",
   "execution_count": 1,
   "metadata": {
    "id": "r2rwypLD6wE8"
   },
   "outputs": [],
   "source": [
    "import pandas as pd\n",
    "import numpy as np\n",
    "import seaborn as sns\n",
    "import matplotlib.pyplot as plt\n",
    "%matplotlib inline\n",
    "color_pal= [x['color'] for x in plt.rcParams['axes.prop_cycle']]\n",
    "from sklearn.model_selection import train_test_split\n",
    "from sklearn import metrics\n",
    "from sklearn.preprocessing import StandardScaler"
   ]
  },
  {
   "cell_type": "code",
   "execution_count": 2,
   "metadata": {
    "id": "3KxMkLEg6wE9"
   },
   "outputs": [],
   "source": [
    "df = pd.read_csv('CS98XRegressionTrain.csv')\n",
    "test = pd.read_csv('CS98XRegressionTest.csv')"
   ]
  },
  {
   "cell_type": "markdown",
   "metadata": {
    "id": "gkdMbZ5z6wE9"
   },
   "source": [
    "# EDA\n",
    "## Identifying Outliers"
   ]
  },
  {
   "cell_type": "code",
   "execution_count": 3,
   "metadata": {
    "colab": {
     "base_uri": "https://localhost:8080/",
     "height": 584
    },
    "id": "F7POgFrz6wE-",
    "outputId": "1ea45939-6bfd-4ec0-df76-dd022d44fc54"
   },
   "outputs": [
    {
     "data": {
      "image/png": "[encoded data removed]",
      "text/plain": [
       "<Figure size 936x576 with 6 Axes>"
      ]
     },
     "metadata": {
      "needs_background": "light",
      "tags": []
     },
     "output_type": "display_data"
    }
   ],
   "source": [
    "# Take a closer look at these skewed attributes...\n",
    "numeric_cols = ['bpm', 'dB', 'live', 'dur', 'spch', 'pop']\n",
    "fig, axes = plt.subplots(2, 3, figsize=(13, 8))\n",
    "for (ax, col) in zip(axes.flatten(), numeric_cols):\n",
    "    sns.boxplot(x=col, data=df, color=color_pal[numeric_cols.index(col)] ,ax=ax)\n",
    "plt.tight_layout()\n",
    "plt.show()"
   ]
  },
  {
   "cell_type": "markdown",
   "metadata": {
    "id": "xHzAsvoG6wE_"
   },
   "source": [
    "# Removing Outliers \n",
    "\n",
    "* BPM - Dropped anything greater than the max as there were only as few. \n",
    "* Db - Dropped anything greater than the max as there were only as few. \n",
    "* Dur - Only 12 songs last between 6.4-8.5 minutes and on average they are 40 years old. Initially  all values above 400 minutes were replaced with the upper limit (383.5) calculated using max = q3 + (1.5 * (q3 - q1). Hence, all outliers were dropped for this feature due to the fact they only accounted for 2.66% of the instances. This resulted in a higher correlation between **pop** and **dur**, confirming these data points were adding noise.\n",
    "* live & spch - The box plot identified that both live and spch had a large number of outliers beyond the upper limit. Doubting their usefulness, correlations between these variables and the target were checked and this verified they were redundant features for prediction."
   ]
  },
  {
   "cell_type": "markdown",
   "metadata": {
    "id": "N64Z73uN6wFA"
   },
   "source": [
    "# Calculating the IQR for Each Feature"
   ]
  },
  {
   "cell_type": "code",
   "execution_count": 4,
   "metadata": {
    "id": "KO6Tlwgu6wFB"
   },
   "outputs": [],
   "source": [
    "# Creating max/min to find cut-off points for dur, bpm, and dB\n",
    "q1 = df['dur'].quantile(.25)\n",
    "q3 = df['dur'].quantile(.75)\n",
    "max = q3 + (1.5 * (q3 - q1))"
   ]
  },
  {
   "cell_type": "markdown",
   "metadata": {
    "id": "9vm2YcUT6wFD"
   },
   "source": [
    "# Dealing with Outliers"
   ]
  },
  {
   "cell_type": "code",
   "execution_count": 5,
   "metadata": {
    "id": "20NPLUSl6wFD"
   },
   "outputs": [],
   "source": [
    "# Dropping Duration outliers\n",
    "df_drop_dur_outliers = df[(df['dur']> 383.5)].index\n",
    "df = df.drop(df_drop_dur_outliers, axis=0)\n",
    "\n",
    "# Dropping bpm outliers \n",
    "df_drop__bpm_outliers = df[(df['bpm']> 182.5)].index\n",
    "df = df.drop(df_drop__bpm_outliers, axis=0)\n",
    "\n",
    "# Dropping dB outliers\n",
    "df_drop_dB = df[(df['dB']< -18.5)].index\n",
    "df = df.drop(df_drop_dB, axis=0)"
   ]
  },
  {
   "cell_type": "markdown",
   "metadata": {
    "id": "yuVGkrc96wFE"
   },
   "source": [
    "# Feature Engineering - New Features\n",
    "\n",
    "The feature engineering included several attempts to create new features that would strongly correlate positively or negatively with **pop**.\n",
    "\n",
    "Dur/Per_BPM showed the most promise accross Pearson, Spearman and Kendall coefficients averaging 30.35% with popularity. Despite its promise, this new feature was dropped and the original features were kept individually as dur on its own still truimphed over this new feaure by around 18%. Furthermore, nrgy, val and dance were combined on the assumption that each of these features were measuring slight variations of a similar concept. However this combined feature resulted in an average 14.99% correlation with popularity. Therefore, the new feature was dropped and not considered to be of great value.\n",
    "\n"
   ]
  },
  {
   "cell_type": "markdown",
   "metadata": {
    "id": "yj9UEj8K6wFE"
   },
   "source": [
    "# Potential Useful Feature Prolific\n",
    "\n",
    "The columns `prolific` and `common_genre` were created as a way to distinguish popular songs from less popular songs on the assumptions that artists with more songs in the set and genres which are more prevelent in the set  might be more popular, respectively."
   ]
  },
  {
   "cell_type": "code",
   "execution_count": 6,
   "metadata": {
    "colab": {
     "base_uri": "https://localhost:8080/"
    },
    "id": "RbxbOJtD6wFF",
    "outputId": "3073bf52-a1de-4489-ac4f-1ab7bce56f55"
   },
   "outputs": [
    {
     "name": "stdout",
     "output_type": "stream",
     "text": [
      "The average popularity of non-prolific artists is 59.94102564102564, as opposed to 70.25531914893617 for prolific artists.\n",
      "The average popularity of non-common genres is 58.94915254237288, as opposed to 62.48076923076923 for common genres.\n"
     ]
    }
   ],
   "source": [
    "big_artists = [\"Elton John\", \"ABBA\", \"Queen\", \"The Beatles\", 'Rihanna',\n",
    "               'Whitney Houston', 'Mariah Carey', 'Taylor Swift']\n",
    "               \n",
    "common_genres = ['adult standards', 'album rock', 'dance pop',\n",
    "                 'brill building pop', 'glam rock', 'europop',\n",
    "                 'dance rock', 'boy band']\n",
    "prolific = []\n",
    "\n",
    "for artist in df['artist']:\n",
    "    if artist in big_artists:\n",
    "        prolific.append(1)\n",
    "    else:\n",
    "        prolific.append(0)\n",
    "\n",
    "df.insert(3, column = 'prolific', value = np.array(prolific))\n",
    "\n",
    "common_genre = []\n",
    "\n",
    "for genre in df['top genre']:\n",
    "    if genre in common_genres:\n",
    "        common_genre.append(1)\n",
    "    else:\n",
    "        common_genre.append(0)\n",
    "\n",
    "df.insert(5, column = 'common_genre', value = np.array(common_genre))\n",
    "\n",
    "# pop_notprolific & pop_prolific\n",
    "pop_notprolific = df[df['prolific']==0]['pop'].mean()\n",
    "pop_prolific = df[df['prolific']==1]['pop'].mean()\n",
    "print(f'The average popularity of non-prolific artists is {pop_notprolific}, as opposed to {pop_prolific} for prolific artists.')\n",
    "\n",
    "# uncommon & common\n",
    "uncommon = df[df['common_genre']==0]['pop'].mean()\n",
    "common = df[df['common_genre']==1]['pop'].mean()\n",
    "print(f'The average popularity of non-common genres is {uncommon}, as opposed to {common} for common genres.')"
   ]
  },
  {
   "cell_type": "code",
   "execution_count": 7,
   "metadata": {
    "colab": {
     "base_uri": "https://localhost:8080/",
     "height": 623
    },
    "id": "IywZ_oo46wFF",
    "outputId": "4e8012c9-5cd9-4610-aaa2-e9fd5051ab74"
   },
   "outputs": [
    {
     "data": {
      "text/plain": [
       "<matplotlib.lines.Line2D at 0x7f330faac9b0>"
      ]
     },
     "execution_count": 7,
     "metadata": {
      "tags": []
     },
     "output_type": "execute_result"
    },
    {
     "data": {
      "image/png": "[encoded data removed]",
      "text/plain": [
       "<Figure size 1872x720 with 2 Axes>"
      ]
     },
     "metadata": {
      "needs_background": "light",
      "tags": []
     },
     "output_type": "display_data"
    }
   ],
   "source": [
    "fig, (ax1, ax2) = plt.subplots(1, 2, figsize = (26,10), sharey = True)\n",
    "sns.histplot(data=df, x=\"pop\", bins = 20, ax=ax1, hue='prolific')\n",
    "ax1.axvline(x=pop_notprolific, color='b')\n",
    "ax1.axvline(x=pop_prolific, color='#ff7f0e')\n",
    "sns.histplot(data=df, x=\"pop\", bins = 20, ax=ax2, hue='common_genre')\n",
    "ax2.axvline(x=uncommon, color='b')\n",
    "ax2.axvline(x=common, color='#ff7f0e')"
   ]
  },
  {
   "cell_type": "markdown",
   "metadata": {
    "id": "ecK04FWU6wFF"
   },
   "source": [
    "The difference in **pop** between aritsts (left) with < 4 songs in the dataset (prolific = 0) and artists with 4 or more songs (prolific = 1) is arguably significant , with a difference of ~10 in mean **pop** score between the two groups. Artists with 4 or more songs appear to be slightly more popular than those who do not and also have fewer unpopular songs. As the inclusion of this feature led to better model performace on the validation set, it was retained.\n",
    "  \n",
    "The same cannot be argued for common vs uncommon genres, since the mean popularity for these groups are closer and there is no relevant difference between the distributions of these two groups. As expected, this was not a useful predictor of **pop** and so it was dropped."
   ]
  },
  {
   "cell_type": "code",
   "execution_count": 8,
   "metadata": {
    "id": "6WVuCWkK-i4j"
   },
   "outputs": [],
   "source": [
    "big_artists = [\"Elton John\", \"ABBA\", \"Queen\", \"The Beatles\", 'Rihanna',\n",
    "               'Whitney Houston', 'Mariah Carey', 'Taylor Swift']\n",
    "prolific = []\n",
    "\n",
    "for artist in test['artist']:\n",
    "    if artist in big_artists:\n",
    "        prolific.append(1)\n",
    "    else:\n",
    "        prolific.append(0)\n",
    "\n",
    "test.insert(3, column = 'prolific', value = np.array(prolific))"
   ]
  },
  {
   "cell_type": "markdown",
   "metadata": {
    "id": "4XHb0PfM6wFG"
   },
   "source": [
    "# Feature Correlations\n",
    "\n",
    "As revealed by the below DataFrame of correlation values between the target and its predictors, some features appear to be promising while others are unlikely to yield better performance. The inclusion of these features during experimentation with various models verified some features were not useful, and so are dropped prior to training the models."
   ]
  },
  {
   "cell_type": "code",
   "execution_count": 9,
   "metadata": {
    "colab": {
     "base_uri": "https://localhost:8080/",
     "height": 467
    },
    "id": "Mb7k5B8n6wFG",
    "outputId": "8b7fe3f6-4d71-406d-842b-0a30ae4c8616"
   },
   "outputs": [
    {
     "data": {
      "text/html": [
       "<div>\n",
       "<style scoped>\n",
       "    .dataframe tbody tr th:only-of-type {\n",
       "        vertical-align: middle;\n",
       "    }\n",
       "\n",
       "    .dataframe tbody tr th {\n",
       "        vertical-align: top;\n",
       "    }\n",
       "\n",
       "    .dataframe thead th {\n",
       "        text-align: right;\n",
       "    }\n",
       "</style>\n",
       "<table border=\"1\" class=\"dataframe\">\n",
       "  <thead>\n",
       "    <tr style=\"text-align: right;\">\n",
       "      <th></th>\n",
       "      <th>Pearson</th>\n",
       "      <th>Spearman</th>\n",
       "      <th>Kendall</th>\n",
       "    </tr>\n",
       "  </thead>\n",
       "  <tbody>\n",
       "    <tr>\n",
       "      <th>pop</th>\n",
       "      <td>1.000000</td>\n",
       "      <td>1.000000</td>\n",
       "      <td>1.000000</td>\n",
       "    </tr>\n",
       "    <tr>\n",
       "      <th>dur</th>\n",
       "      <td>0.477781</td>\n",
       "      <td>0.433817</td>\n",
       "      <td>0.301031</td>\n",
       "    </tr>\n",
       "    <tr>\n",
       "      <th>dB</th>\n",
       "      <td>0.306084</td>\n",
       "      <td>0.284101</td>\n",
       "      <td>0.202737</td>\n",
       "    </tr>\n",
       "    <tr>\n",
       "      <th>nrgy</th>\n",
       "      <td>0.304533</td>\n",
       "      <td>0.227323</td>\n",
       "      <td>0.149729</td>\n",
       "    </tr>\n",
       "    <tr>\n",
       "      <th>dnce</th>\n",
       "      <td>0.250043</td>\n",
       "      <td>0.231540</td>\n",
       "      <td>0.160027</td>\n",
       "    </tr>\n",
       "    <tr>\n",
       "      <th>prolific</th>\n",
       "      <td>0.239054</td>\n",
       "      <td>0.247023</td>\n",
       "      <td>0.204114</td>\n",
       "    </tr>\n",
       "    <tr>\n",
       "      <th>spch</th>\n",
       "      <td>0.148519</td>\n",
       "      <td>0.130540</td>\n",
       "      <td>0.096755</td>\n",
       "    </tr>\n",
       "    <tr>\n",
       "      <th>common_genre</th>\n",
       "      <td>0.129695</td>\n",
       "      <td>0.099676</td>\n",
       "      <td>0.082362</td>\n",
       "    </tr>\n",
       "    <tr>\n",
       "      <th>Id</th>\n",
       "      <td>0.089578</td>\n",
       "      <td>0.088095</td>\n",
       "      <td>0.058879</td>\n",
       "    </tr>\n",
       "    <tr>\n",
       "      <th>bpm</th>\n",
       "      <td>0.070071</td>\n",
       "      <td>0.037376</td>\n",
       "      <td>0.026091</td>\n",
       "    </tr>\n",
       "    <tr>\n",
       "      <th>val</th>\n",
       "      <td>-0.023556</td>\n",
       "      <td>-0.044098</td>\n",
       "      <td>-0.029385</td>\n",
       "    </tr>\n",
       "    <tr>\n",
       "      <th>live</th>\n",
       "      <td>-0.042893</td>\n",
       "      <td>-0.131710</td>\n",
       "      <td>-0.089893</td>\n",
       "    </tr>\n",
       "    <tr>\n",
       "      <th>year</th>\n",
       "      <td>-0.069728</td>\n",
       "      <td>-0.055570</td>\n",
       "      <td>-0.032585</td>\n",
       "    </tr>\n",
       "    <tr>\n",
       "      <th>acous</th>\n",
       "      <td>-0.453115</td>\n",
       "      <td>-0.385109</td>\n",
       "      <td>-0.265132</td>\n",
       "    </tr>\n",
       "  </tbody>\n",
       "</table>\n",
       "</div>"
      ],
      "text/plain": [
       "               Pearson  Spearman   Kendall\n",
       "pop           1.000000  1.000000  1.000000\n",
       "dur           0.477781  0.433817  0.301031\n",
       "dB            0.306084  0.284101  0.202737\n",
       "nrgy          0.304533  0.227323  0.149729\n",
       "dnce          0.250043  0.231540  0.160027\n",
       "prolific      0.239054  0.247023  0.204114\n",
       "spch          0.148519  0.130540  0.096755\n",
       "common_genre  0.129695  0.099676  0.082362\n",
       "Id            0.089578  0.088095  0.058879\n",
       "bpm           0.070071  0.037376  0.026091\n",
       "val          -0.023556 -0.044098 -0.029385\n",
       "live         -0.042893 -0.131710 -0.089893\n",
       "year         -0.069728 -0.055570 -0.032585\n",
       "acous        -0.453115 -0.385109 -0.265132"
      ]
     },
     "execution_count": 9,
     "metadata": {
      "tags": []
     },
     "output_type": "execute_result"
    }
   ],
   "source": [
    "pearson_corr = df.corr()[\"pop\"] # Pearson is default\n",
    "spearman_corr = df.corr(method='spearman')[\"pop\"]\n",
    "kendall_corr = df.corr(method='kendall')[\"pop\"]\n",
    "corr_df = pd.DataFrame({'Pearson': pearson_corr, 'Spearman': spearman_corr, 'Kendall': kendall_corr})\n",
    "corr_df.sort_values(by='Pearson', ascending=False)"
   ]
  },
  {
   "cell_type": "markdown",
   "metadata": {
    "id": "TRyDb-JB6wFH"
   },
   "source": [
    "# Year Feature\n",
    "\n",
    "Looking at how **pop** varies over time, the year variables seemed unlikely to be a good predictor in its original form, but a reduction of granularity was achieved by allocating songs into 5-year time windows. As this resulted in slightly better model performance, this new feature was retained and one-hot encoded for model training."
   ]
  },
  {
   "cell_type": "code",
   "execution_count": 10,
   "metadata": {
    "colab": {
     "base_uri": "https://localhost:8080/",
     "height": 404
    },
    "id": "RXBrJFGH6wFH",
    "outputId": "3ced6bf8-6e63-4fd5-85bb-601d14b23e86"
   },
   "outputs": [
    {
     "data": {
      "image/png": "[encoded data removed]",
      "text/plain": [
       "<Figure size 1296x432 with 1 Axes>"
      ]
     },
     "metadata": {
      "needs_background": "light",
      "tags": []
     },
     "output_type": "display_data"
    }
   ],
   "source": [
    "# How does pop vary with time?\n",
    "fig, ax = plt.subplots(figsize=(18, 6))\n",
    "ax = df.groupby('year')['pop'].mean().plot()\n",
    "ax.set_title('Mean Popularity as a function of time')\n",
    "ax.set_ylabel('Mean Popularity')\n",
    "ax.set_xlabel('Year')\n",
    "ax.set_xticks(range(1948, 2019, 5))\n",
    "plt.show()"
   ]
  },
  {
   "cell_type": "markdown",
   "metadata": {
    "id": "FuPZ3ERN6wFH"
   },
   "source": [
    "# One-Hot Encoding Year"
   ]
  },
  {
   "cell_type": "code",
   "execution_count": 11,
   "metadata": {
    "id": "vLa2nXyk6wFI"
   },
   "outputs": [],
   "source": [
    "def year_dummies_per5yrs(df):\n",
    "    df['Dummies_Yr'] = 0 \n",
    "    df['Dummies_Yr'] = np.where(((df['year'] >= 1945) & (df['year'] < 1950)), '1945-1950', df['Dummies_Yr'])\n",
    "    df['Dummies_Yr'] = np.where(((df['year'] >= 1950) & (df['year'] < 1955)), '1950-1955', df['Dummies_Yr'])\n",
    "    df['Dummies_Yr'] = np.where(((df['year'] >= 1955) & (df['year'] < 1960)), '1955-1960', df['Dummies_Yr'])\n",
    "    df['Dummies_Yr'] = np.where(((df['year'] >= 1960) & (df['year'] < 1965)), '1960-1965', df['Dummies_Yr'])\n",
    "    df['Dummies_Yr'] = np.where(((df['year'] >= 1965) & (df['year'] < 1970)), '1965-1970', df['Dummies_Yr'])\n",
    "    df['Dummies_Yr'] = np.where(((df['year'] >= 1970) & (df['year'] < 1975)), '1970-1975', df['Dummies_Yr'])\n",
    "    df['Dummies_Yr'] = np.where(((df['year'] >= 1975) & (df['year'] < 1980)), '1975-1980', df['Dummies_Yr'])\n",
    "    df['Dummies_Yr'] = np.where(((df['year'] >= 1980) & (df['year'] < 1985)), '1980-1985', df['Dummies_Yr'])\n",
    "    df['Dummies_Yr'] = np.where(((df['year'] >= 1985) & (df['year'] < 1990)), '1985-1990', df['Dummies_Yr'])\n",
    "    df['Dummies_Yr'] = np.where(((df['year'] >= 1990) & (df['year'] < 1995)), '1990-1995', df['Dummies_Yr'])\n",
    "    df['Dummies_Yr'] = np.where(((df['year'] >= 1995) & (df['year'] < 2000)), '1995-2000', df['Dummies_Yr'])\n",
    "    df['Dummies_Yr'] = np.where(((df['year'] >= 2000) & (df['year'] < 2005)), '2000-2005', df['Dummies_Yr'])\n",
    "    df['Dummies_Yr'] = np.where(((df['year'] >= 2005) & (df['year'] < 2010)), '2005-2010', df['Dummies_Yr'])\n",
    "    df['Dummies_Yr'] = np.where(((df['year'] >= 2010) & (df['year'] < 2015)), '2010-2015', df['Dummies_Yr'])\n",
    "    df['Dummies_Yr'] = np.where(((df['year'] >= 2015) & (df['year'] < 2020)), '2015-2020', df['Dummies_Yr'])\n",
    "\n",
    "    return df"
   ]
  },
  {
   "cell_type": "code",
   "execution_count": 12,
   "metadata": {
    "id": "qquhcDD06wFI"
   },
   "outputs": [],
   "source": [
    "df = pd.DataFrame(year_dummies_per5yrs(df))"
   ]
  },
  {
   "cell_type": "code",
   "execution_count": 13,
   "metadata": {
    "id": "idvPoOa66wFI"
   },
   "outputs": [],
   "source": [
    "from sklearn.preprocessing import OneHotEncoder\n",
    "\n",
    "# OneHotEncoding\n",
    "cat_encoder = OneHotEncoder(sparse=False)\n",
    "genre_cat_1hot = cat_encoder.fit_transform(df[['Dummies_Yr']])\n",
    "enc_data = pd.DataFrame(genre_cat_1hot)\n",
    "enc_data.columns = cat_encoder.categories_[0]\n",
    "enc_data.index = df.index\n",
    "# drop last column\n",
    "enc_data = enc_data.drop(['2015-2020'], axis=1).copy()\n",
    "encoded_df = pd.concat([df, enc_data], axis =1, ignore_index = False)\n",
    "encoded_df = encoded_df.drop(['Dummies_Yr'], axis=1).copy()"
   ]
  },
  {
   "cell_type": "code",
   "execution_count": 14,
   "metadata": {
    "id": "jC_ABQPd6wFI"
   },
   "outputs": [],
   "source": [
    "test = pd.DataFrame(year_dummies_per5yrs(test))\n",
    "\n",
    "ohe_test = cat_encoder.transform(test[['Dummies_Yr']])\n",
    "enc_data_test = pd.DataFrame(ohe_test)\n",
    "enc_data_test.columns = cat_encoder.categories_[0]\n",
    "enc_data_test.index = test.index\n",
    "# drop last column\n",
    "enc_data_test = enc_data_test.drop(['2015-2020'], axis=1).copy()\n",
    "encoded_test = pd.concat([test, enc_data_test], axis =1, ignore_index = False)\n",
    "encoded_test = encoded_test.drop(['Dummies_Yr'], axis=1).copy()"
   ]
  },
  {
   "cell_type": "markdown",
   "metadata": {
    "id": "CZgm_Ww76wFJ"
   },
   "source": [
    "# Dropping Redundant Features "
   ]
  },
  {
   "cell_type": "code",
   "execution_count": 15,
   "metadata": {
    "id": "HVs4CM1g6wFJ"
   },
   "outputs": [],
   "source": [
    "train = encoded_df.drop(labels=['Id', 'title', 'artist','top genre' ,'year', 'spch', 'live', 'common_genre'], axis=1)\n",
    "test = encoded_test.drop(labels=['Id', 'title', 'artist','top genre' ,'year', 'spch', 'live'], axis=1)"
   ]
  },
  {
   "cell_type": "code",
   "execution_count": 16,
   "metadata": {
    "id": "-he2qDTc6wFJ"
   },
   "outputs": [],
   "source": [
    "X = train.drop('pop', axis=1)\n",
    "y = train['pop']"
   ]
  },
  {
   "cell_type": "markdown",
   "metadata": {
    "id": "sTlD1f3E6wFK"
   },
   "source": [
    "# Train, Test, Split "
   ]
  },
  {
   "cell_type": "code",
   "execution_count": 17,
   "metadata": {
    "id": "eyyy7KXk6wFK"
   },
   "outputs": [],
   "source": [
    "# Set seed for consistency across runs\n",
    "seed = 1\n",
    "X_train, X_val, y_train, y_val = train_test_split(X, y, test_size=0.3, random_state=seed)"
   ]
  },
  {
   "cell_type": "markdown",
   "metadata": {
    "id": "Zx-bz_aK6wFK"
   },
   "source": [
    "# Notes on Modelling\n",
    "### Experimentation\n",
    "\n",
    "The penultimate stage of fitting and evaluating various candidate models was an iterative process of determining which models would best perform the task, and discovering which feature selection, transformation & engineering combinations lead to the best perfomance consistently - as determined through cross-validation and testing with a validation set. The purpose of this was to eliminate under-perfoming models and omit data preparation decisions, which would not be worthwhile exploring during model ensembling and optimisation.\n",
    "\n",
    "For this task a variety of non-linear models were imported from scikit-learn, including K-Nearest Neighbours Regressor, a Support Vector Regressor, a Decision Tree, and a convenient ensemble of this model - the Extra Trees Regressor. They were chosen to introduce a diversity of models with regards to the algorithms they use and their inherent bias. For example, the KNN Regressor introduces a model for instance-based learning unlike the other model-based learners used and the Extra Trees model was used to introduce more bias at the expense of variance in comparison to the simple Decision Tree. Linear models were excluded from consideration due to the dearth of linear relationships and non-Gaussian distributions in the data which would violate the core assumptions of linear models.\n",
    "\n",
    "The Decision Tree (DT) was found to consistently underperform in comparison to other models, though the KNN regressor was only slightly better. The group concluded the complex relationship between the target feature and it's predictors, combined with the few training instances, presented too great a challenge for these relatively simple models. Although the KNN regressor did see improvement by increasing the number of neighbours used in the prediction, making it more resillient to outliers. After settling on a set of data processing/feature selection steps that provided the best performance on simpler models, GridSearchCV was used to optimise these models before carrying a selection of them forward to the processes of ensembling."
   ]
  },
  {
   "cell_type": "markdown",
   "metadata": {
    "id": "ZvfdNNSF6wFK"
   },
   "source": [
    "# Cross-valiate, Run model and display score functions "
   ]
  },
  {
   "cell_type": "code",
   "execution_count": 18,
   "metadata": {
    "id": "_4e6uhSG6wFK"
   },
   "outputs": [],
   "source": [
    "cv = 4\n",
    "\n",
    "# Displays scores \n",
    "def display_scores(scores):\n",
    "  print(\"RMSE:\", scores)\n",
    "  print(\"Mean RMSE:\", scores.mean())\n",
    "  print(\"Std_dev:\", scores.std())   \n",
    "\n",
    "# Cross validation summary with cv =4 \n",
    "def cross_val_summary(trained_model, input_vars, target):\n",
    "    model_mse =  cross_val_score(trained_model, input_vars, target,\n",
    "                             scoring=\"neg_mean_squared_error\", cv=cv)\n",
    "    model_rmse = np.sqrt(-model_mse)\n",
    "    display_scores(model_rmse)\n",
    "\n",
    "# runs models to fit and predict\n",
    "def run_model(model,X_train,y_train,X_val,y_val):\n",
    "    # Fit Model\n",
    "    model.fit(X_train,y_train)\n",
    "    # Get Metrics\n",
    "    preds = model.predict(X_val)\n",
    "    rmse = np.sqrt(mean_squared_error(y_val,preds))\n",
    "    print(f'RMSE on validation: {rmse}')    "
   ]
  },
  {
   "cell_type": "markdown",
   "metadata": {
    "id": "xEdd5sw16wFL"
   },
   "source": [
    "# Scaling"
   ]
  },
  {
   "cell_type": "code",
   "execution_count": 19,
   "metadata": {
    "id": "dDBhjI_Z6wFL"
   },
   "outputs": [],
   "source": [
    "# caling the training set  \n",
    "scaler = StandardScaler()\n",
    "X_train = scaler.fit_transform(X_train)\n",
    "X_val = scaler.transform(X_val)\n",
    "test_scaled = scaler.transform(test)"
   ]
  },
  {
   "cell_type": "code",
   "execution_count": 20,
   "metadata": {
    "id": "ViRoZzUh6wFL"
   },
   "outputs": [],
   "source": [
    "# Import models and other necessary functions\n",
    "from sklearn.neighbors import KNeighborsRegressor\n",
    "from sklearn.tree import DecisionTreeRegressor\n",
    "from sklearn.svm import SVR\n",
    "from sklearn.ensemble import ExtraTreesRegressor, GradientBoostingRegressor, VotingRegressor, BaggingRegressor\n",
    "from sklearn.preprocessing import StandardScaler\n",
    "from sklearn.model_selection import cross_val_score, GridSearchCV\n",
    "from sklearn.metrics import mean_squared_error"
   ]
  },
  {
   "cell_type": "markdown",
   "metadata": {
    "id": "UWtqMORq6wFL"
   },
   "source": [
    "# KNeighbors Regressor"
   ]
  },
  {
   "cell_type": "code",
   "execution_count": null,
   "metadata": {
    "id": "CcDeB0726wFM"
   },
   "outputs": [],
   "source": [
    "param_grid = [{'n_neighbors': list(range(2, 10)), 'weights' : ['uniform', 'distance']}]\n",
    "knn = KNeighborsRegressor()\n",
    "grid_search_knn = GridSearchCV(knn, param_grid, cv=cv, scoring='neg_mean_squared_error')\n",
    "grid_search_knn.fit(X_train, y_train)\n",
    "print(grid_search_knn.best_params_)"
   ]
  },
  {
   "cell_type": "code",
   "execution_count": 22,
   "metadata": {
    "colab": {
     "base_uri": "https://localhost:8080/"
    },
    "id": "h9mWRzxF6wFM",
    "outputId": "e657cac6-3df8-40c2-d428-d6df6ff34659"
   },
   "outputs": [
    {
     "name": "stdout",
     "output_type": "stream",
     "text": [
      "RMSE on validation: 9.454943055913818\n",
      "---------\n",
      "RMSE: [11.8935005  12.09151369 10.29300785 10.81739802]\n",
      "Mean RMSE: 11.27385501750403\n",
      "Std_dev: 0.7454764236378024\n"
     ]
    }
   ],
   "source": [
    "knn = grid_search_knn.best_estimator_\n",
    "run_model(knn,X_train,y_train,X_val,y_val)\n",
    "print('---------')\n",
    "cross_val_summary(knn, X_train, y_train)"
   ]
  },
  {
   "cell_type": "markdown",
   "metadata": {
    "id": "LH4DOYrl6wFM"
   },
   "source": [
    "# Decision Tree Regressor "
   ]
  },
  {
   "cell_type": "code",
   "execution_count": null,
   "metadata": {
    "id": "A7wNyVmZ6wFN"
   },
   "outputs": [],
   "source": [
    "param_grid = {\"min_samples_split\": [10, 20, 40],\n",
    "              \"max_depth\": [2, 6, 8],\n",
    "              \"min_samples_leaf\": [20, 40, 100],\n",
    "              \"max_leaf_nodes\": list(range(2, 100, 10)),\n",
    "              }\n",
    "\n",
    "DTR = DecisionTreeRegressor()\n",
    "gridsearch_dt = GridSearchCV(DTR, param_grid, cv=cv, scoring='neg_mean_squared_error')\n",
    "gridsearch_dt.fit(X_train, y_train)\n",
    "gridsearch_dt.best_params_"
   ]
  },
  {
   "cell_type": "code",
   "execution_count": 24,
   "metadata": {
    "colab": {
     "base_uri": "https://localhost:8080/"
    },
    "id": "qppD9Zh16wFN",
    "outputId": "77f94d8a-a5af-458a-f7dd-f5559170964f"
   },
   "outputs": [
    {
     "name": "stdout",
     "output_type": "stream",
     "text": [
      "RMSE on validation: 10.759691404946588\n",
      "----------\n",
      "RMSE: [12.02070804 12.32360131 10.36202306 11.28742691]\n",
      "Mean RMSE: 11.498439831214782\n",
      "Std_dev: 0.7565753557039654\n"
     ]
    }
   ],
   "source": [
    "DTR = gridsearch_dt.best_estimator_\n",
    "run_model(DTR,X_train,y_train,X_val,y_val)\n",
    "print('----------')\n",
    "cross_val_summary(DTR, X_train, y_train)"
   ]
  },
  {
   "cell_type": "markdown",
   "metadata": {
    "id": "xWcB5nop6wFO"
   },
   "source": [
    "# SVR"
   ]
  },
  {
   "cell_type": "code",
   "execution_count": null,
   "metadata": {
    "id": "ukD9fQG_6wFO"
   },
   "outputs": [],
   "source": [
    "param_grid = {\"kernel\": ['linear', 'poly', 'rbf', 'sigmoid'],\n",
    "              \"degree\": [2, 3, 5, 10],\n",
    "              \"C\": [0.001, 0.1, 1, 10, 100],\n",
    "              \"epsilon\": [0.001, 0.1, 1, 10],\n",
    "              }\n",
    "gridsearch_svr = GridSearchCV(SVR(), param_grid, verbose=1, cv=cv, scoring='neg_mean_squared_error')\n",
    "gridsearch_svr.fit(X_train, y_train)\n",
    "gridsearch_svr.best_params_"
   ]
  },
  {
   "cell_type": "code",
   "execution_count": 27,
   "metadata": {
    "colab": {
     "base_uri": "https://localhost:8080/"
    },
    "id": "ojCsVp536wFO",
    "outputId": "4b76ed11-793b-408f-ced5-065a32fb02d5"
   },
   "outputs": [
    {
     "name": "stdout",
     "output_type": "stream",
     "text": [
      "RMSE on validation: 9.641774784137258\n",
      "----------\n",
      "RMSE: [11.98739669 11.88105097  9.08916519 10.75540999]\n",
      "Mean RMSE: 10.928255708833104\n",
      "Std_dev: 1.1663755819027393\n"
     ]
    }
   ],
   "source": [
    "svr = gridsearch_svr.best_estimator_\n",
    "run_model(svr,X_train,y_train,X_val,y_val)\n",
    "print('----------')\n",
    "cross_val_summary(svr, X_train, y_train)"
   ]
  },
  {
   "cell_type": "markdown",
   "metadata": {
    "id": "9uJo7MML6wFR"
   },
   "source": [
    "# Extra Decision Tree Regressor "
   ]
  },
  {
   "cell_type": "code",
   "execution_count": null,
   "metadata": {
    "id": "lD4MIh3X6wFR"
   },
   "outputs": [],
   "source": [
    "param_grid = [{'n_estimators': [50, 100, 200], \n",
    "               'max_depth': [3, 10, 50],\n",
    "               'max_features': ['auto', 'log2'], \n",
    "               'bootstrap': [True, False],\n",
    "               'min_samples_leaf': [2,3,4]}]\n",
    "\n",
    "ExtrReg = ExtraTreesRegressor()\n",
    "grid_search_etrf = GridSearchCV(ExtrReg, param_grid, cv=cv, scoring='neg_mean_squared_error')\n",
    "grid_search_etrf.fit(X_train, y_train)\n",
    "grid_search_etrf.best_params_"
   ]
  },
  {
   "cell_type": "code",
   "execution_count": 29,
   "metadata": {
    "colab": {
     "base_uri": "https://localhost:8080/"
    },
    "id": "IUlgJNxq6wFS",
    "outputId": "92165db0-2e65-4b95-adcd-f000dfacdd40"
   },
   "outputs": [
    {
     "name": "stdout",
     "output_type": "stream",
     "text": [
      "RMSE on validation: 9.122629341560367\n",
      "----------\n",
      "RMSE: [11.77720388 12.13626341  9.25096668 11.41034899]\n",
      "Mean RMSE: 11.143695741197018\n",
      "Std_dev: 1.1225028279459863\n"
     ]
    }
   ],
   "source": [
    "ExtrReg = grid_search_etrf.best_estimator_\n",
    "run_model(ExtrReg,X_train,y_train,X_val,y_val)\n",
    "print('----------')\n",
    "cross_val_summary(ExtrReg, X_train, y_train)"
   ]
  },
  {
   "cell_type": "markdown",
   "metadata": {
    "id": "eaEAIHwS6wFS"
   },
   "source": [
    "# Ensembles\n",
    "\n",
    "With data already prepared and promising base models identified, the group could be slightly more liberal in the application of ensembles to identify the best model. This meant applying bagging/pasting and boosting - using GridSearchCV to identfiy the optimised model hyperparameters. The validation set performed better with Gradient Boosting than with Extreme Gradient Boosting - an admittidly unexpected finding given it typically performs better than standard Gradient Boosting. The latter of these models was hence dropped from consideration.\n",
    "\n",
    "It was found that Bagging and Pasting approaches yielded comparable performance to one another, and although they were typically underperforming the Extra Trees model they enhanced the performance of our final and best performing model - a Voting Regressor. The intention was to use models which showed stong performance on the validation set and include those models which differed considerably in the algorithms applied - hence the best Voting Regressor achieved containts exactly this."
   ]
  },
  {
   "cell_type": "markdown",
   "metadata": {
    "id": "2X1Dc3tJ6wFT"
   },
   "source": [
    "# Gradient Boosting Regressor "
   ]
  },
  {
   "cell_type": "code",
   "execution_count": null,
   "metadata": {
    "id": "EvjFrucO6wFT"
   },
   "outputs": [],
   "source": [
    "param_grid = {\"n_estimators\": [50, 100, 300],\n",
    "              \"learning_rate\": [0.01, 0.1],\n",
    "              \"max_depth\": [3, 5, 10],\n",
    "              \"max_features\": ['auto', 'log2'],\n",
    "}\n",
    "gbrt = GradientBoostingRegressor()\n",
    "gridsearch_gbrt = GridSearchCV(gbrt, param_grid, cv=cv, scoring='neg_mean_squared_error')\n",
    "gridsearch_gbrt.fit(X_train, y_train)\n",
    "gridsearch_gbrt.best_params_"
   ]
  },
  {
   "cell_type": "code",
   "execution_count": 31,
   "metadata": {
    "colab": {
     "base_uri": "https://localhost:8080/"
    },
    "id": "10nwdZeW6wFT",
    "outputId": "766a74e1-92b4-4738-fcf8-0c81c0e498a3"
   },
   "outputs": [
    {
     "name": "stdout",
     "output_type": "stream",
     "text": [
      "RMSE on validation: 9.700001340334781\n",
      "----------\n",
      "RMSE: [12.0126364  11.9844501   9.09708215 10.98756489]\n",
      "Mean RMSE: 11.020433384900588\n",
      "Std_dev: 1.1847104475445989\n"
     ]
    }
   ],
   "source": [
    "gbrt = gridsearch_gbrt.best_estimator_\n",
    "run_model(gbrt,X_train,y_train,X_val,y_val)\n",
    "print('----------')\n",
    "cross_val_summary(gbrt, X_train, y_train)"
   ]
  },
  {
   "cell_type": "markdown",
   "metadata": {
    "id": "adjDpd-J6wFV"
   },
   "source": [
    "# Bagging/Pasting Regressor"
   ]
  },
  {
   "cell_type": "code",
   "execution_count": null,
   "metadata": {
    "id": "kTkFECf86wFV"
   },
   "outputs": [],
   "source": [
    "param_grid = {\"n_estimators\": [10, 50, 100],\n",
    "              \"max_samples\": [0.67, 0.75, 1.0],\n",
    "              \"max_features\": [0.67, 0.75, 1.0],\n",
    "              \"bootstrap\": [True, False],\n",
    "              }\n",
    "bag_reg = BaggingRegressor(KNeighborsRegressor(n_neighbors=9, weights='distance'), n_jobs=-1)\n",
    "gridsearch_bag = GridSearchCV(bag_reg, param_grid, cv=cv, scoring='neg_mean_squared_error')\n",
    "gridsearch_bag.fit(X_train, y_train)\n",
    "gridsearch_bag.best_params_"
   ]
  },
  {
   "cell_type": "code",
   "execution_count": 33,
   "metadata": {
    "colab": {
     "base_uri": "https://localhost:8080/"
    },
    "id": "nOJLW54u6wFV",
    "outputId": "a9397cb3-9ada-4260-ee80-77c97e19b3cd"
   },
   "outputs": [
    {
     "name": "stdout",
     "output_type": "stream",
     "text": [
      "RMSE on validation: 9.339223576288447\n",
      "----------\n",
      "RMSE: [12.39455538 12.01004591  9.53062249 10.93240359]\n",
      "Mean RMSE: 11.21690684271369\n",
      "Std_dev: 1.111353078302545\n"
     ]
    }
   ],
   "source": [
    "BagReg = gridsearch_bag.best_estimator_\n",
    "run_model(BagReg,X_train,y_train,X_val,y_val)\n",
    "print('----------')\n",
    "cross_val_summary(BagReg, X_train, y_train)"
   ]
  },
  {
   "cell_type": "markdown",
   "metadata": {
    "id": "JgBhqL7R6wFV"
   },
   "source": [
    "\n",
    "\n",
    "---\n",
    "\n",
    "\n",
    "# Voting Regressor - Final Model"
   ]
  },
  {
   "cell_type": "code",
   "execution_count": 34,
   "metadata": {
    "colab": {
     "base_uri": "https://localhost:8080/"
    },
    "id": "mBnnB8wD6wFW",
    "outputId": "f2980130-4c63-447e-ef1a-5aab3cc5ab3d"
   },
   "outputs": [
    {
     "name": "stdout",
     "output_type": "stream",
     "text": [
      "RMSE on validation: 9.11879155454733\n",
      "----------\n",
      "RMSE: [11.75241291 11.76387618  9.07155557 10.71277988]\n",
      "Mean RMSE: 10.825156136348397\n",
      "Std_dev: 1.098720142214767\n"
     ]
    }
   ],
   "source": [
    "voting_reg = VotingRegressor(estimators=[('knn', knn), ('svr', svr), ('rf', ExtrReg), ('bag', BagReg), ('gradb', gbrt)])\n",
    "run_model(voting_reg,X_train,y_train,X_val,y_val)\n",
    "print('----------')\n",
    "cross_val_summary(voting_reg, X_train, y_train)"
   ]
  },
  {
   "cell_type": "markdown",
   "metadata": {
    "id": "0-tot2I0NpyM"
   },
   "source": [
    "\n",
    "\n",
    "---\n",
    "\n",
    "---\n",
    "\n"
   ]
  },
  {
   "cell_type": "markdown",
   "metadata": {
    "id": "s-QaFFnc6wFW"
   },
   "source": [
    "# Model Performance\n",
    "\n",
    "Interestingly, all models appear to perform slightly worse during cross validation of the training data than they do on the validation set. Taking a closer look, it appears each model performs better on one of the 4 folds than the others, and this is the same fold for each model. This might suggest that the training data may still contain some noise that was not identified during the EDA, distorting the relationship between popularity and the other features. On the other hand, both the 25% used for one of the folds and the validation set may then have less noise, allowing for stonger performance on these sets. This is also a reassuring indicator that the models created are resilient to this noise, as they are not overfitting to the training data.\n",
    "\n",
    "As seen above, the final models achieve similar perfomance on the validation set with the exception of the DecisionTreeRegressor which tends to have a significantly higher RMSE. Across many runs, the VotingRegressor achieves an RMSE between 9.10 and 9.25, averaging around 9.17, while its best performance on the test set is slighly lower at 8.97.\n",
    "\n",
    "The expectation was that the model would perform slightly worse on the test data than training data, but the converse it true here. One explanation for this outcome is simply that 8.97 was the model's *best* performance on the test data, while previous runs resulted in slightly worse performance - hence, it's  more likely the model performs equally well across all unseen data at best, if not slightly worse.\n",
    "\n",
    "Finally, while the Voting Regressor's performance is very similar to that of our optimised Extra Trees Regressor and Bagging Regressor with respect to RMSE; its lower standard deviation across folds of the training data suggested it would perform better across unseen data, so the Voting Regressor became the final model."
   ]
  },
  {
   "cell_type": "code",
   "execution_count": 36,
   "metadata": {
    "colab": {
     "base_uri": "https://localhost:8080/"
    },
    "id": "ouSiUl2-6wFW",
    "outputId": "50653f27-f04b-4d9e-a267-5a9d70e7cd4d"
   },
   "outputs": [
    {
     "name": "stdout",
     "output_type": "stream",
     "text": [
      "KNeighborsRegressor = 9.454943055913818\n",
      "SVR = 9.641774784137258\n",
      "DecisionTreeRegressor = 10.759691404946588\n",
      "ExtraTreesRegressor = 9.174652518526514\n",
      "BaggingRegressor = 9.160801715343679\n",
      "GradientBoostingRegressor = 9.732568515094746\n",
      "VotingRegressor = 9.123698801428615\n"
     ]
    }
   ],
   "source": [
    "# Test on validation set\n",
    "for reg in (knn, svr, DTR, ExtrReg, BagReg, gbrt, voting_reg):\n",
    "    reg.fit(X_train, y_train)\n",
    "    y_pred = reg.predict(X_val)\n",
    "    print(reg.__class__.__name__, \"=\", np.sqrt(mean_squared_error(y_val, y_pred)))"
   ]
  },
  {
   "cell_type": "code",
   "execution_count": 37,
   "metadata": {
    "id": "O-E42ta96wFW"
   },
   "outputs": [],
   "source": [
    "# Predictions on test data\n",
    "predictions = voting_reg.predict(test_scaled)\n",
    "\n",
    "pd.DataFrame(predictions).set_index(encoded_test['Id']).rename(columns={0:'pop'}).to_csv('upload.csv')"
   ]
  }
 ],
 "metadata": {
  "colab": {
   "collapsed_sections": [
    "yuVGkrc96wFE",
    "Zx-bz_aK6wFK",
    "eaEAIHwS6wFS"
   ],
   "name": "Spotify-Regression-Final.ipynb",
   "provenance": []
  },
  "kernelspec": {
   "display_name": "Python 3",
   "language": "python",
   "name": "python3"
  },
  "language_info": {
   "codemirror_mode": {
    "name": "ipython",
    "version": 3
   },
   "file_extension": ".py",
   "mimetype": "text/x-python",
   "name": "python",
   "nbconvert_exporter": "python",
   "pygments_lexer": "ipython3",
   "version": "3.7.6"
  }
 },
 "nbformat": 4,
 "nbformat_minor": 1
}
